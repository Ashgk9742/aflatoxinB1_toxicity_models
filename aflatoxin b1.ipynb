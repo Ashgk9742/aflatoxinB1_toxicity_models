{
 "cells": [
  {
   "cell_type": "markdown",
   "metadata": {
    "vscode": {
     "languageId": "plaintext"
    }
   },
   "source": [
    "Compile a list of differentially expressed genes (DEGs) from your GEO2R dataset"
   ]
  },
  {
   "cell_type": "code",
   "execution_count": null,
   "metadata": {},
   "outputs": [
    {
     "name": "stdout",
     "output_type": "stream",
     "text": [
      "Error processing file GSE127791.top.table.tsv: \"['Gene.symbol'] not in index\"\n",
      "Error processing file GSE153590.top.table.tsv: \"['Gene.symbol'] not in index\"\n"
     ]
    },
    {
     "name": "stderr",
     "output_type": "stream",
     "text": [
      "C:\\Users\\agk78\\AppData\\Local\\Temp\\ipykernel_5008\\3944322657.py:27: FutureWarning: The behavior of DataFrame concatenation with empty or all-NA entries is deprecated. In a future version, this will no longer exclude empty or all-NA columns when determining the result dtypes. To retain the old behavior, exclude the relevant entries before the concat operation.\n",
      "  compiled_data = pd.concat([compiled_data, data], ignore_index=True)\n"
     ]
    },
    {
     "name": "stdout",
     "output_type": "stream",
     "text": [
      "Error processing file GSE40117.top.table.tsv: \"['Gene.symbol'] not in index\"\n",
      "Error processing file GSE51175.top.table.tsv: \"['Gene.symbol'] not in index\"\n",
      "Error processing file GSE57132.top.table (1).tsv: \"['Gene.symbol'] not in index\"\n",
      "Error processing file GSE57132.top.table.tsv: \"['Gene.symbol'] not in index\"\n",
      "Error processing file GSE67002.top.table.tsv: \"['Gene.symbol'] not in index\"\n",
      "Error processing file GSE67078.top.table (1).tsv: \"['Gene.symbol'] not in index\"\n",
      "Error processing file GSE67078.top.table.tsv: \"['Gene.symbol'] not in index\"\n",
      "Error processing file GSE71542.top.table.tsv: \"['Gene.symbol'] not in index\"\n",
      "Error processing file GSE71546.top.table.tsv: \"['Gene.symbol'] not in index\"\n",
      "Error processing file GSE71547.top.table.tsv: \"['Gene.symbol'] not in index\"\n",
      "Error processing file GSE71549.top.table 1.tsv: \"['Gene.symbol'] not in index\"\n",
      "Error processing file GSE71549.top.table.tsv: \"['Gene.symbol'] not in index\"\n",
      "Error processing file GSE75934.top.table.tsv: \"['Gene.symbol'] not in index\"\n",
      "Error processing file GSE93840.top.table.tsv: \"['Gene.symbol'] not in index\"\n",
      "Compiled data saved to: C:\\Users\\agk78\\OneDrive\\Desktop\\AFL\\.venv\\processed_\\Compiled_GEO2R.csv\n"
     ]
    }
   ],
   "source": [
    "import os\n",
    "import pandas as pd\n",
    "\n",
    "# Folder containing GEO2R files\n",
    "input_folder = r\"C:\\Users\\agk78\\OneDrive\\Desktop\\AFL\\.venv\\datasets for aflatoxinb1\"  # Replace with the actual folder path containing GEO2R files\n",
    "output_file = r\"C:\\Users\\agk78\\OneDrive\\Desktop\\AFL\\.venv\\processed_\\Compiled_GEO2R.csv\"  # Replace with the desired output file path\n",
    "\n",
    "# Define the required columns\n",
    "required_columns = ['ID', 'adj.P.Val', 'P.Value','Gene.symbol']\n",
    "\n",
    "# Initialize an empty DataFrame to store compiled data\n",
    "compiled_data = pd.DataFrame(columns=required_columns)\n",
    "\n",
    "# Iterate through all files in the folder\n",
    "for filename in os.listdir(input_folder):\n",
    "    if filename.endswith('.tsv'):  # Process only TSV files\n",
    "        file_path = os.path.join(input_folder, filename)\n",
    "        \n",
    "        # Read the GEO2R file\n",
    "        try:\n",
    "            data = pd.read_csv(file_path, sep='\\t')\n",
    "            \n",
    "            # Select only the required columns (if they exist in the file)\n",
    "            data = data[required_columns]\n",
    "            \n",
    "            # Append the data to the compiled DataFrame\n",
    "            compiled_data = pd.concat([compiled_data, data], ignore_index=True)\n",
    "        \n",
    "        except Exception as e:\n",
    "            print(f\"Error processing file {filename}: {e}\")\n",
    "\n",
    "# Save the compiled data to a CSV file\n",
    "compiled_data.to_csv(output_file, index=False)\n",
    "\n",
    "print(f\"Compiled data saved to: {output_file}\")\n"
   ]
  },
  {
   "cell_type": "code",
   "execution_count": null,
   "metadata": {},
   "outputs": [
    {
     "name": "stdout",
     "output_type": "stream",
     "text": [
      "Preprocessed data saved to: C:\\Users\\agk78\\OneDrive\\Desktop\\AFL\\.venv\\processed_\\Preprocessed_CTD_Data.csv\n"
     ]
    },
    {
     "name": "stderr",
     "output_type": "stream",
     "text": [
      "C:\\Users\\agk78\\AppData\\Local\\Temp\\ipykernel_5008\\3089844691.py:25: SettingWithCopyWarning: \n",
      "A value is trying to be set on a copy of a slice from a DataFrame.\n",
      "Try using .loc[row_indexer,col_indexer] = value instead\n",
      "\n",
      "See the caveats in the documentation: https://pandas.pydata.org/pandas-docs/stable/user_guide/indexing.html#returning-a-view-versus-a-copy\n",
      "  filtered_ctd_data['Normalized Inference Score'] = (filtered_ctd_data['Inference Score'] - min_score) / (max_score - min_score)\n"
     ]
    }
   ],
   "source": [
    "# Load required libraries\n",
    "import pandas as pd\n",
    "\n",
    "# Load the CTD dataset\n",
    "file_path = r'C:\\Users\\agk78\\OneDrive\\Desktop\\AFL\\.venv\\no1 datasets of aflatoxin b1\\CTD_D016604_diseases_20241212062811.tsv'\n",
    "ctd_data = pd.read_csv(file_path, sep='\\t')\n",
    "\n",
    "# Step 1: Split the 'Inference Network' column into individual gene symbols\n",
    "# Explode the gene list into separate rows\n",
    "ctd_data['Inference Network'] = ctd_data['Inference Network'].str.split('|')\n",
    "exploded_ctd_data = ctd_data.explode('Inference Network')\n",
    "\n",
    "# Step 2: Standardize gene symbols\n",
    "# Assuming GEO2R uses uppercase symbols, convert all gene symbols to uppercase\n",
    "exploded_ctd_data['Inference Network'] = exploded_ctd_data['Inference Network'].str.upper()\n",
    "\n",
    "# Step 3: Filter relevant columns for further analysis\n",
    "# Keeping only necessary columns\n",
    "filtered_ctd_data = exploded_ctd_data[['Chemical Name', 'Disease Name', 'Inference Network', 'Inference Score']]\n",
    "\n",
    "# Step 4: Normalize the 'Inference Score'\n",
    "# Min-Max scaling of the 'Inference Score'\n",
    "min_score = filtered_ctd_data['Inference Score'].min()\n",
    "max_score = filtered_ctd_data['Inference Score'].max()\n",
    "filtered_ctd_data['Normalized Inference Score'] = (filtered_ctd_data['Inference Score'] - min_score) / (max_score - min_score)\n",
    "\n",
    "# Step 5: Save the preprocessed data for comparison with GEO2R\n",
    "output_file_path = r'C:\\Users\\agk78\\OneDrive\\Desktop\\AFL\\.venv\\processed_\\Preprocessed_CTD_Data.csv'\n",
    "filtered_ctd_data.to_csv(output_file_path, index=False)\n",
    "\n",
    "print(f\"Preprocessed data saved to: {output_file_path}\")\n"
   ]
  },
  {
   "cell_type": "code",
   "execution_count": 5,
   "metadata": {},
   "outputs": [],
   "source": [
    "filtered_ctd_data.loc[:, 'Normalized Inference Score'] = (\n",
    "    filtered_ctd_data['Inference Score'] - min_score\n",
    ") / (max_score - min_score)\n"
   ]
  },
  {
   "cell_type": "code",
   "execution_count": 3,
   "metadata": {},
   "outputs": [
    {
     "name": "stdout",
     "output_type": "stream",
     "text": [
      "CTD data loaded successfully.\n"
     ]
    }
   ],
   "source": [
    "import pandas as pd\n",
    "\n",
    "# Replace with the actual path to your preprocessed CTD data\n",
    "ctd_file_path = r\"C:\\Users\\agk78\\OneDrive\\Desktop\\AFL\\.venv\\processed_\\Preprocessed_CTD_Data1.csv\"\n",
    "ctd_data = pd.read_csv(ctd_file_path)\n",
    "\n",
    "print(\"CTD data loaded successfully.\")\n"
   ]
  },
  {
   "cell_type": "code",
   "execution_count": 12,
   "metadata": {},
   "outputs": [
    {
     "name": "stdout",
     "output_type": "stream",
     "text": [
      "GEO2R DEGs data loaded successfully.\n"
     ]
    }
   ],
   "source": [
    "# Replace with the path to your GEO2R DEGs file\n",
    "geo2r_file_path = r\"C:\\Users\\agk78\\OneDrive\\Desktop\\AFL\\.venv\\processed_\\Compiled_GEO2R.csv\"\n",
    "geo2r_data = pd.read_csv(geo2r_file_path)\n",
    "\n",
    "print(\"GEO2R DEGs data loaded successfully.\")\n"
   ]
  },
  {
   "cell_type": "code",
   "execution_count": 2,
   "metadata": {},
   "outputs": [
    {
     "name": "stdout",
     "output_type": "stream",
     "text": [
      "Column renamed and data saved to: C:\\Users\\agk78\\OneDrive\\Desktop\\AFL\\.venv\\processed_\\Preprocessed_CTD_Data1.csv\n"
     ]
    }
   ],
   "source": [
    "import pandas as pd\n",
    "\n",
    "# Load the CSV file into a DataFrame\n",
    "file_path = r\"C:\\Users\\agk78\\OneDrive\\Desktop\\AFL\\.venv\\processed_\\Preprocessed_CTD_Data.csv\"  # Replace with the path to your CSV file\n",
    "data = pd.read_csv(file_path)\n",
    "\n",
    "# Rename the column\n",
    "data.rename(columns={\"Inference Network\": \"Gene.symbol\"}, inplace=True)\n",
    "\n",
    "# Save the updated DataFrame back to the CSV\n",
    "output_file_path =r\"C:\\Users\\agk78\\OneDrive\\Desktop\\AFL\\.venv\\processed_\\Preprocessed_CTD_Data1.csv\"  # Replace with the desired output path\n",
    "data.to_csv(output_file_path, index=False)\n",
    "\n",
    "print(f\"Column renamed and data saved to: {output_file_path}\")\n"
   ]
  },
  {
   "cell_type": "code",
   "execution_count": null,
   "metadata": {},
   "outputs": [
    {
     "name": "stdout",
     "output_type": "stream",
     "text": [
      "GEO2R Dataset Head:\n",
      "             ID  adj.P.Val       P.Value Gene.symbol\n",
      "0   A_23_P97906    0.00109  7.660000e-08       NT5C2\n",
      "1   A_24_P12932    0.00382  5.360000e-07      MRPS16\n",
      "2   A_32_P18251    0.00481  1.110000e-06      FUNDC2\n",
      "3  A_23_P164047    0.00481  1.350000e-06         MMD\n",
      "4  A_23_P205997    0.00516  2.050000e-06       APH1B\n",
      "\n",
      "CTD Dataset Head:\n",
      "  Chemical Name               Disease Name Gene.symbol  Inference Score  \\\n",
      "0  Aflatoxin B1  Carcinoma, Hepatocellular         A2M           312.89   \n",
      "1  Aflatoxin B1  Carcinoma, Hepatocellular       AADAT           312.89   \n",
      "2  Aflatoxin B1  Carcinoma, Hepatocellular       ABCB1           312.89   \n",
      "3  Aflatoxin B1  Carcinoma, Hepatocellular       ABCB4           312.89   \n",
      "4  Aflatoxin B1  Carcinoma, Hepatocellular       ACACA           312.89   \n",
      "\n",
      "   Normalized Inference Score  \n",
      "0                    0.501128  \n",
      "1                    0.501128  \n",
      "2                    0.501128  \n",
      "3                    0.501128  \n",
      "4                    0.501128  \n",
      "Merged data saved to: path_to_output_merged_file.csv\n",
      "\n",
      "Number of overlapping genes: 5433\n",
      "Number of unique genes in GEO2R: 14014\n",
      "Number of unique genes in CTD: 395\n"
     ]
    },
    {
     "data": {
      "image/png": "[encoded data removed]",
      "text/plain": [
       "<Figure size 600x600 with 1 Axes>"
      ]
     },
     "metadata": {},
     "output_type": "display_data"
    }
   ],
   "source": [
    "import pandas as pd\n",
    "\n",
    "# Step 1: Load GEO2R and CTD datasets\n",
    "geo2r_path = r\"C:\\Users\\agk78\\OneDrive\\Desktop\\AFL\\.venv\\processed_\\Compiled_GEO2R.csv\"  # Replace with your GEO2R file path\n",
    "ctd_path = r\"C:\\Users\\agk78\\OneDrive\\Desktop\\AFL\\.venv\\processed_\\Preprocessed_CTD_Data1.csv\"      # Replace with your CTD file path\n",
    "\n",
    "geo2r_data = pd.read_csv(geo2r_path)\n",
    "ctd_data = pd.read_csv(ctd_path)\n",
    "\n",
    "# Step 2: Inspect the datasets (Optional)\n",
    "print(\"GEO2R Dataset Head:\")\n",
    "print(geo2r_data.head())\n",
    "print(\"\\nCTD Dataset Head:\")\n",
    "print(ctd_data.head())\n",
    "\n",
    "# Step 3: Rename relevant columns for consistency\n",
    "ctd_data.rename(columns={\"Inference Network\": \"Gene.symbol\"}, inplace=True)\n",
    "\n",
    "# Step 4: Merge datasets (Outer Join on 'Gene.symbol')\n",
    "merged_data = pd.merge(geo2r_data, ctd_data, on=\"Gene.symbol\", how=\"outer\")\n",
    "\n",
    "# Step 5: Save merged dataset\n",
    "output_file_path = \"path_to_output_merged_file.csv\"  # Replace with your desired output path\n",
    "merged_data.to_csv(output_file_path, index=False)\n",
    "\n",
    "print(f\"Merged data saved to: {output_file_path}\")\n",
    "\n",
    "# Step 6: Analyze the merged dataset\n",
    "# Example Analysis: Check for overlapping genes\n",
    "geo2r_genes = set(geo2r_data['Gene.symbol'].dropna())\n",
    "ctd_genes = set(ctd_data['Gene.symbol'].dropna())\n",
    "\n",
    "overlapping_genes = geo2r_genes.intersection(ctd_genes)\n",
    "unique_to_geo2r = geo2r_genes - ctd_genes\n",
    "unique_to_ctd = ctd_genes - geo2r_genes\n",
    "\n",
    "print(f\"\\nNumber of overlapping genes: {len(overlapping_genes)}\")\n",
    "print(f\"Number of unique genes in GEO2R: {len(unique_to_geo2r)}\")\n",
    "print(f\"Number of unique genes in CTD: {len(unique_to_ctd)}\")\n",
    "\n",
    "# Example Visualization (Optional, Requires matplotlib and seaborn)\n",
    "import matplotlib.pyplot as plt\n",
    "import seaborn as sns\n",
    "\n",
    "# Plot overlapping genes\n",
    "venn_labels = {\n",
    "    \"unique_to_geo2r\": len(unique_to_geo2r),\n",
    "    \"unique_to_ctd\": len(unique_to_ctd),\n",
    "    \"overlapping_genes\": len(overlapping_genes),\n",
    "}\n",
    "\n",
    "plt.figure(figsize=(6, 6))\n",
    "sns.set(style=\"whitegrid\")\n",
    "plt.bar(venn_labels.keys(), venn_labels.values(), color=['blue', 'orange', 'green'])\n",
    "plt.xlabel(\"Gene Overlap Categories\")\n",
    "plt.ylabel(\"Number of Genes\")\n",
    "plt.title(\"Overlap Between GEO2R and CTD Datasets\")\n",
    "plt.show()\n"
   ]
  },
  {
   "cell_type": "code",
   "execution_count": 1,
   "metadata": {},
   "outputs": [
    {
     "name": "stdout",
     "output_type": "stream",
     "text": [
      "Cleaned Data (first 5 rows):\n",
      "            ID     adj.P.Val       P.Value Gene.symbol Chemical Name  \\\n",
      "0  A_23_P38816  6.723000e-01  4.310000e-01        A1BG  Aflatoxin B1   \n",
      "1  A_23_P38816  6.723000e-01  4.310000e-01        A1BG  Aflatoxin B1   \n",
      "2        25737  3.350000e-12  6.110000e-15        A1BG  Aflatoxin B1   \n",
      "3        25737  3.350000e-12  6.110000e-15        A1BG  Aflatoxin B1   \n",
      "8         7999  3.820000e-01  2.580000e-01         A2M  Aflatoxin B1   \n",
      "\n",
      "                Disease Name  Inference Score  Normalized Inference Score  \\\n",
      "0               Hepatomegaly         0.018334                    0.018334   \n",
      "1              Schizophrenia         0.109828                    0.109828   \n",
      "2               Hepatomegaly         0.018334                    0.018334   \n",
      "3              Schizophrenia         0.109828                    0.109828   \n",
      "8  Carcinoma, Hepatocellular         0.501128                    0.501128   \n",
      "\n",
      "  Toxicity_Level  \n",
      "0         Medium  \n",
      "1           High  \n",
      "2         Medium  \n",
      "3           High  \n",
      "8           High  \n",
      "\n",
      "Distribution of Toxicity Levels:\n",
      "Toxicity_Level\n",
      "Low       34093\n",
      "High      33742\n",
      "Medium    33740\n",
      "Name: count, dtype: int64\n"
     ]
    }
   ],
   "source": [
    "import pandas as pd\n",
    "from sklearn.preprocessing import MinMaxScaler\n",
    "\n",
    "# Load the dataset\n",
    "file_path =r'C:\\Users\\agk78\\OneDrive\\Desktop\\AFL\\.venv\\path_to_output_merged_file.csv'\n",
    "data = pd.read_csv(file_path)\n",
    "\n",
    "# Step 1: Handle Missing Data\n",
    "# Remove rows where critical columns have missing values\n",
    "cleaned_data = data.dropna(subset=['Gene.symbol', 'Chemical Name', 'Disease Name', 'Inference Score', 'Normalized Inference Score']).copy()\n",
    "\n",
    "# Step 2: Derive a Target Variable\n",
    "# Categorize 'Normalized Inference Score' into 'low', 'medium', and 'high'\n",
    "cleaned_data.loc[:, 'Toxicity_Level'] = pd.qcut(\n",
    "    cleaned_data['Normalized Inference Score'],\n",
    "    q=3,  # Divide into 3 categories\n",
    "    labels=['Low', 'Medium', 'High']\n",
    ")\n",
    "\n",
    "# Step 3: Normalize Numerical Features\n",
    "# Normalize 'Inference Score' and 'Normalized Inference Score'\n",
    "scaler = MinMaxScaler()\n",
    "cleaned_data[['Inference Score', 'Normalized Inference Score']] = scaler.fit_transform(\n",
    "    cleaned_data[['Inference Score', 'Normalized Inference Score']]\n",
    ")\n",
    "\n",
    "# Display preprocessing results\n",
    "print(\"Cleaned Data (first 5 rows):\")\n",
    "print(cleaned_data.head())\n",
    "\n",
    "print(\"\\nDistribution of Toxicity Levels:\")\n",
    "print(cleaned_data['Toxicity_Level'].value_counts())\n"
   ]
  },
  {
   "cell_type": "code",
   "execution_count": 2,
   "metadata": {},
   "outputs": [
    {
     "name": "stdout",
     "output_type": "stream",
     "text": [
      "Training set size: (60945, 10389)\n",
      "Validation set size: (20315, 10389)\n",
      "Test set size: (20315, 10389)\n"
     ]
    }
   ],
   "source": [
    "from sklearn.model_selection import train_test_split\n",
    "import pandas as pd\n",
    "\n",
    "# Assume `cleaned_data` is already prepared from previous steps\n",
    "\n",
    "# Step 1: One-Hot Encoding for Categorical Variables\n",
    "categorical_columns = ['Chemical Name', 'Disease Name', 'Gene.symbol']\n",
    "encoded_data = pd.get_dummies(cleaned_data, columns=categorical_columns, drop_first=True)\n",
    "\n",
    "# Step 2: Feature Engineering\n",
    "# Example: Interaction term between 'Inference Score' and 'Normalized Inference Score'\n",
    "encoded_data['Interaction_Term'] = (\n",
    "    encoded_data['Inference Score'] * encoded_data['Normalized Inference Score']\n",
    ")\n",
    "\n",
    "# Step 3: Split Data\n",
    "# Separate features (X) and target variable (y)\n",
    "X = encoded_data.drop(columns=['Toxicity_Level', 'ID'])  # Drop non-predictive columns\n",
    "y = encoded_data['Toxicity_Level']\n",
    "\n",
    "# Convert target variable to numerical format\n",
    "y_encoded = y.map({'Low': 0, 'Medium': 1, 'High': 2})\n",
    "\n",
    "# Split data into training, validation, and testing sets (60-20-20 split)\n",
    "X_train, X_temp, y_train, y_temp = train_test_split(X, y_encoded, test_size=0.4, random_state=42, stratify=y_encoded)\n",
    "X_val, X_test, y_val, y_test = train_test_split(X_temp, y_temp, test_size=0.5, random_state=42, stratify=y_temp)\n",
    "\n",
    "# Summary of splits\n",
    "print(\"Training set size:\", X_train.shape)\n",
    "print(\"Validation set size:\", X_val.shape)\n",
    "print(\"Test set size:\", X_test.shape)\n"
   ]
  },
  {
   "cell_type": "code",
   "execution_count": 5,
   "metadata": {},
   "outputs": [
    {
     "name": "stdout",
     "output_type": "stream",
     "text": [
      "Datasets saved successfully:\n",
      "- Training set: X_train.csv, y_train.csv\n",
      "- Validation set: X_val.csv, y_val.csv\n",
      "- Test set: X_test.csv, y_test.csv\n"
     ]
    }
   ],
   "source": [
    "# Save training, validation, and test datasets to CSV files\n",
    "\n",
    "# Save features and target for the training set\n",
    "X_train.to_csv(r'C:\\Users\\agk78\\OneDrive\\Desktop\\AFL\\.venv\\processed_\\X_train.csv', index=False)\n",
    "y_train.to_csv(r'C:\\Users\\agk78\\OneDrive\\Desktop\\AFL\\.venv\\processed_\\y_train.csv', index=False)\n",
    "\n",
    "# Save features and target for the validation set\n",
    "X_val.to_csv(r'C:\\Users\\agk78\\OneDrive\\Desktop\\AFL\\.venv\\processed_\\X_val.csv', index=False)\n",
    "y_val.to_csv(r'C:\\Users\\agk78\\OneDrive\\Desktop\\AFL\\.venv\\processed_\\y_val.csv', index=False)\n",
    "\n",
    "# Save features and target for the test set\n",
    "X_test.to_csv(r'C:\\Users\\agk78\\OneDrive\\Desktop\\AFL\\.venv\\processed_\\X_test.csv', index=False)\n",
    "y_test.to_csv(r'C:\\Users\\agk78\\OneDrive\\Desktop\\AFL\\.venv\\processed_\\y_test.csv', index=False)\n",
    "\n",
    "print(\"Datasets saved successfully:\")\n",
    "print(\"- Training set: X_train.csv, y_train.csv\")\n",
    "print(\"- Validation set: X_val.csv, y_val.csv\")\n",
    "print(\"- Test set: X_test.csv, y_test.csv\")\n"
   ]
  },
  {
   "cell_type": "markdown",
   "metadata": {},
   "source": [
    "code for combined datasets data 1 and data 2 donot run the code the file is already be saved "
   ]
  },
  {
   "cell_type": "code",
   "execution_count": null,
   "metadata": {},
   "outputs": [],
   "source": [
    "import pandas as pd\n",
    "\n",
    "# Load the datasets\n",
    "file_1_path = r'C:\\Users\\agk78\\OneDrive\\Desktop\\AFL\\cleaned_data.csv'  # Update to the actual path\n",
    "file_2_path = r'C:\\Users\\agk78\\OneDrive\\Desktop\\AFL\\.venv\\no1 datasets of aflatoxin b1\\CTD_D016604_ixns_20241212063652.csv'  # Update to the actual path\n",
    "\n",
    "data_1 = pd.read_csv(file_1_path)\n",
    "data_2 = pd.read_csv(file_2_path)\n",
    "\n",
    "# Ensure column names match for merging\n",
    "data_2.rename(columns={'Gene Symbol': 'Gene.symbol', 'Chemical Name': 'Chemical Name'}, inplace=True)\n",
    "\n",
    "# Perform an inner join on common columns: 'Gene.symbol' and 'Chemical Name'\n",
    "combined_data = pd.merge(data_1, data_2, on=['Gene.symbol', 'Chemical Name'], how='inner')\n",
    "\n",
    "# Save the combined dataset to a file\n",
    "combined_file_path = r'C:\\Users\\agk78\\OneDrive\\Desktop\\AFL\\.venv\\processed_\\combined_dataafl.csv'  # Update to the desired save path\n",
    "combined_data.to_csv(combined_file_path, index=False)\n",
    "\n",
    "# Display some details about the combined dataset\n",
    "print(f\"Combined data has {combined_data.shape[0]} rows and {combined_data.shape[1]} columns.\")\n",
    "print(f\"Combined dataset saved to: {combined_file_path}\")\n",
    "print(combined_data.head())\n"
   ]
  },
  {
   "cell_type": "code",
   "execution_count": 11,
   "metadata": {},
   "outputs": [
    {
     "name": "stdout",
     "output_type": "stream",
     "text": [
      "Sparse datasets saved successfully:\n",
      "- Training set: X_train_sparse.pkl, y_train.pkl\n",
      "- Validation set: X_val_sparse.pkl, y_val.pkl\n",
      "- Test set: X_test_sparse.pkl, y_test.pkl\n"
     ]
    }
   ],
   "source": [
    "from sklearn.preprocessing import OneHotEncoder\n",
    "from scipy.sparse import hstack\n",
    "\n",
    "# Identify categorical and numerical columns\n",
    "categorical_columns = ['Chemical Name', 'Gene.symbol', 'Disease Name', 'Interaction Actions']\n",
    "numerical_columns = ['adj.P.Val', 'P.Value', 'Inference Score', 'Normalized Inference Score', 'Reference Count', 'Organism Count']\n",
    "\n",
    "# Initialize sparse one-hot encoder\n",
    "encoder = OneHotEncoder(handle_unknown='ignore', sparse_output=True)\n",
    "\n",
    "# Fit and transform the categorical columns\n",
    "encoded_sparse = encoder.fit_transform(data[categorical_columns])\n",
    "\n",
    "# Combine sparse encoded features with numerical features\n",
    "X_sparse = hstack([encoded_sparse, data[numerical_columns]])\n",
    "\n",
    "# Convert the target variable into numerical format\n",
    "y = data['Toxicity_Level'].map({'Low': 0, 'Medium': 1, 'High': 2})\n",
    "\n",
    "# Split the data into training, validation, and test sets\n",
    "from sklearn.model_selection import train_test_split\n",
    "\n",
    "X_train_sparse, X_temp_sparse, y_train, y_temp = train_test_split(\n",
    "    X_sparse, y, test_size=0.4, random_state=42, stratify=y)\n",
    "\n",
    "X_val_sparse, X_test_sparse, y_val, y_test = train_test_split(\n",
    "    X_temp_sparse, y_temp, test_size=0.5, random_state=42, stratify=y_temp)\n",
    "\n",
    "# Save the sparse datasets to files\n",
    "import joblib\n",
    "joblib.dump(X_train_sparse,r'C:\\Users\\agk78\\OneDrive\\Desktop\\AFL\\processed_files\\X_train_sparse.pkl')\n",
    "joblib.dump(X_val_sparse,r'C:\\Users\\agk78\\OneDrive\\Desktop\\AFL\\processed_files\\X_val_sparse.pkl')\n",
    "joblib.dump(X_test_sparse,r'C:\\Users\\agk78\\OneDrive\\Desktop\\AFL\\processed_files\\X_test_sparse.pkl')\n",
    "joblib.dump(y_train,r'C:\\Users\\agk78\\OneDrive\\Desktop\\AFL\\processed_files\\y_train.pkl')\n",
    "joblib.dump(y_val,r'C:\\Users\\agk78\\OneDrive\\Desktop\\AFL\\processed_files\\y_val.pkl')\n",
    "joblib.dump(y_test,r'C:\\Users\\agk78\\OneDrive\\Desktop\\AFL\\processed_files\\y_test.pkl')\n",
    "\n",
    "print(\"Sparse datasets saved successfully:\")\n",
    "print(\"- Training set: X_train_sparse.pkl, y_train.pkl\")\n",
    "print(\"- Validation set: X_val_sparse.pkl, y_val.pkl\")\n",
    "print(\"- Test set: X_test_sparse.pkl, y_test.pkl\")\n"
   ]
  },
  {
   "cell_type": "code",
   "execution_count": 2,
   "metadata": {},
   "outputs": [
    {
     "name": "stdout",
     "output_type": "stream",
     "text": [
      "Validation Set Performance:\n",
      "              precision    recall  f1-score   support\n",
      "\n",
      "         Low       0.99      1.00      1.00     19864\n",
      "      Medium       1.00      0.99      1.00     20489\n",
      "        High       1.00      1.00      1.00     18809\n",
      "\n",
      "    accuracy                           1.00     59162\n",
      "   macro avg       1.00      1.00      1.00     59162\n",
      "weighted avg       1.00      1.00      1.00     59162\n",
      "\n",
      "Confusion Matrix:\n",
      "[[19790    74     0]\n",
      " [  108 20381     0]\n",
      " [    0     0 18809]]\n",
      "\n",
      "Test Set Performance:\n",
      "              precision    recall  f1-score   support\n",
      "\n",
      "         Low       0.99      1.00      0.99     19864\n",
      "      Medium       1.00      0.99      0.99     20489\n",
      "        High       1.00      1.00      1.00     18810\n",
      "\n",
      "    accuracy                           1.00     59163\n",
      "   macro avg       1.00      1.00      1.00     59163\n",
      "weighted avg       1.00      1.00      1.00     59163\n",
      "\n",
      "Confusion Matrix:\n",
      "[[19780    84     0]\n",
      " [  129 20360     0]\n",
      " [    0     0 18810]]\n",
      "Model saved successfully: logistic_regression_model_imputed.pkl\n"
     ]
    }
   ],
   "source": [
    "from sklearn.impute import SimpleImputer\n",
    "from sklearn.linear_model import LogisticRegression\n",
    "from sklearn.metrics import classification_report, confusion_matrix\n",
    "import joblib\n",
    "\n",
    "# Load the sparse datasets\n",
    "X_train_sparse = joblib.load(r'C:\\Users\\agk78\\OneDrive\\Desktop\\AFL\\processed_files\\X_train_sparse.pkl')\n",
    "X_val_sparse = joblib.load(r'C:\\Users\\agk78\\OneDrive\\Desktop\\AFL\\processed_files\\X_val_sparse.pkl')\n",
    "X_test_sparse = joblib.load(r'C:\\Users\\agk78\\OneDrive\\Desktop\\AFL\\processed_files\\X_test_sparse.pkl')\n",
    "y_train = joblib.load(r'C:\\Users\\agk78\\OneDrive\\Desktop\\AFL\\processed_files\\y_train.pkl')\n",
    "y_val = joblib.load(r'C:\\Users\\agk78\\OneDrive\\Desktop\\AFL\\processed_files\\y_val.pkl')\n",
    "y_test = joblib.load(r'C:\\Users\\agk78\\OneDrive\\Desktop\\AFL\\processed_files\\y_test.pkl')\n",
    "\n",
    "\n",
    "# Impute missing values\n",
    "imputer = SimpleImputer(strategy='mean')\n",
    "X_train_sparse = imputer.fit_transform(X_train_sparse)\n",
    "X_val_sparse = imputer.transform(X_val_sparse)\n",
    "X_test_sparse = imputer.transform(X_test_sparse)\n",
    "\n",
    "# Initialize and train the Logistic Regression model\n",
    "model = LogisticRegression(max_iter=1000, random_state=42)\n",
    "model.fit(X_train_sparse, y_train)\n",
    "\n",
    "# Evaluate on the validation set\n",
    "y_val_pred = model.predict(X_val_sparse)\n",
    "\n",
    "# Validation metrics\n",
    "print(\"Validation Set Performance:\")\n",
    "print(classification_report(y_val, y_val_pred, target_names=['Low', 'Medium', 'High']))\n",
    "print(\"Confusion Matrix:\")\n",
    "print(confusion_matrix(y_val, y_val_pred))\n",
    "\n",
    "# Evaluate on the test set\n",
    "y_test_pred = model.predict(X_test_sparse)\n",
    "\n",
    "print(\"\\nTest Set Performance:\")\n",
    "print(classification_report(y_test, y_test_pred, target_names=['Low', 'Medium', 'High']))\n",
    "print(\"Confusion Matrix:\")\n",
    "print(confusion_matrix(y_test, y_test_pred))\n",
    "\n",
    "# Save the trained model\n",
    "joblib.dump(model, r'C:\\Users\\agk78\\OneDrive\\Desktop\\AFL\\processed_files\\logistic_regression_model_imputed.pkl')\n",
    "print(\"Model saved successfully: logistic_regression_model_imputed.pkl\")\n"
   ]
  },
  {
   "cell_type": "code",
   "execution_count": 12,
   "metadata": {},
   "outputs": [
    {
     "name": "stdout",
     "output_type": "stream",
     "text": [
      "            ID     adj.P.Val       P.Value Gene.symbol Chemical Name  \\\n",
      "0  A_23_P38816  6.723000e-01  4.310000e-01        A1BG  Aflatoxin B1   \n",
      "1  A_23_P38816  6.723000e-01  4.310000e-01        A1BG  Aflatoxin B1   \n",
      "2  A_23_P38816  6.723000e-01  4.310000e-01        A1BG  Aflatoxin B1   \n",
      "3  A_23_P38816  6.723000e-01  4.310000e-01        A1BG  Aflatoxin B1   \n",
      "4        25737  3.350000e-12  6.110000e-15        A1BG  Aflatoxin B1   \n",
      "\n",
      "    Disease Name  Inference Score  Normalized Inference Score Toxicity_Level  \\\n",
      "0   Hepatomegaly         0.018334                    0.018334         Medium   \n",
      "1   Hepatomegaly         0.018334                    0.018334         Medium   \n",
      "2  Schizophrenia         0.109828                    0.109828           High   \n",
      "3  Schizophrenia         0.109828                    0.109828           High   \n",
      "4   Hepatomegaly         0.018334                    0.018334         Medium   \n",
      "\n",
      "  Chemical ID     CAS RN  Gene ID  \\\n",
      "0     D016604  1162-65-8        1   \n",
      "1     D016604  1162-65-8        1   \n",
      "2     D016604  1162-65-8        1   \n",
      "3     D016604  1162-65-8        1   \n",
      "4     D016604  1162-65-8        1   \n",
      "\n",
      "                                         Interaction   Interaction Actions  \\\n",
      "0  Aflatoxin B1 results in decreased expression o...  decreases^expression   \n",
      "1  Aflatoxin B1 results in increased expression o...  increases^expression   \n",
      "2  Aflatoxin B1 results in decreased expression o...  decreases^expression   \n",
      "3  Aflatoxin B1 results in increased expression o...  increases^expression   \n",
      "4  Aflatoxin B1 results in decreased expression o...  decreases^expression   \n",
      "\n",
      "   Reference Count  Organism Count  \n",
      "0                2               1  \n",
      "1                2               1  \n",
      "2                2               1  \n",
      "3                2               1  \n",
      "4                2               1  \n"
     ]
    }
   ],
   "source": [
    "import pandas as pd\n",
    "\n",
    "# Path to the combined dataset\n",
    "file_path = r'C:\\Users\\agk78\\OneDrive\\Desktop\\AFL\\.venv\\processed_\\combined_dataafl.csv'  # Update this path if needed\n",
    "data = pd.read_csv(file_path)\n",
    "\n",
    "# Display the first few rows to confirm\n",
    "print(data.head())\n"
   ]
  },
  {
   "cell_type": "code",
   "execution_count": 13,
   "metadata": {},
   "outputs": [],
   "source": [
    "# Define the original categorical and numerical columns\n",
    "categorical_columns = ['Chemical Name', 'Gene.symbol', 'Disease Name', 'Interaction Actions']\n",
    "numerical_columns = ['adj.P.Val', 'P.Value', 'Inference Score', \n",
    "                     'Normalized Inference Score', 'Reference Count', 'Organism Count']\n"
   ]
  },
  {
   "cell_type": "code",
   "execution_count": 14,
   "metadata": {},
   "outputs": [],
   "source": [
    "from sklearn.preprocessing import OneHotEncoder\n",
    "\n",
    "# Initialize the encoder\n",
    "encoder = OneHotEncoder(handle_unknown='ignore', sparse_output=True)\n",
    "\n",
    "# Fit the encoder on the categorical columns\n",
    "encoder.fit(data[categorical_columns])\n",
    "\n",
    "# Generate feature names\n",
    "feature_names = encoder.get_feature_names_out(categorical_columns).tolist() + numerical_columns\n"
   ]
  },
  {
   "cell_type": "code",
   "execution_count": 15,
   "metadata": {},
   "outputs": [
    {
     "name": "stdout",
     "output_type": "stream",
     "text": [
      "Top 10 Important Features:\n",
      "                                              Feature  Importance\n",
      "10482                      Normalized Inference Score   15.037374\n",
      "10481                                 Inference Score   15.037374\n",
      "6702     Disease Name_Cell Transformation, Neoplastic    3.462473\n",
      "9130   Disease Name_Non-alcoholic Fatty Liver Disease    3.343422\n",
      "1                          Chemical Name_Aflatoxin B1    3.297589\n",
      "6613            Disease Name_Carcinoma, Squamous Cell    3.233645\n",
      "7191              Disease Name_Disease Models, Animal    3.214551\n",
      "10227          Disease Name_Urinary Bladder Neoplasms    3.170903\n",
      "6050                   Disease Name_Alzheimer Disease    3.065019\n",
      "6842                   Disease Name_Colonic Neoplasms    2.900891\n"
     ]
    }
   ],
   "source": [
    "import numpy as np\n",
    "\n",
    "# Get model coefficients\n",
    "coefficients = model.coef_\n",
    "\n",
    "# Convert to absolute importance for all classes\n",
    "importance = np.abs(coefficients).mean(axis=0)\n",
    "\n",
    "# Create a DataFrame for feature importance\n",
    "feature_importance = pd.DataFrame({'Feature': feature_names, 'Importance': importance})\n",
    "feature_importance = feature_importance.sort_values(by='Importance', ascending=False)\n",
    "\n",
    "# Display top 10 features\n",
    "print(\"Top 10 Important Features:\")\n",
    "print(feature_importance.head(10))\n"
   ]
  },
  {
   "cell_type": "code",
   "execution_count": null,
   "metadata": {},
   "outputs": [],
   "source": [
    "path\\to\\filename"
   ]
  },
  {
   "cell_type": "code",
   "execution_count": 16,
   "metadata": {},
   "outputs": [],
   "source": [
    "from sklearn.preprocessing import OneHotEncoder\n",
    "\n",
    "# Define the original categorical columns\n",
    "categorical_columns = ['Chemical Name', 'Gene.symbol', 'Disease Name', 'Interaction Actions']\n",
    "\n",
    "# Recreate the encoder with the same settings\n",
    "encoder = OneHotEncoder(handle_unknown='ignore', sparse_output=True)\n",
    "\n",
    "# Fit the encoder on the original categorical columns from the dataset\n",
    "encoder.fit(data[categorical_columns])\n",
    "\n",
    "# Combine feature names\n",
    "feature_names = encoder.get_feature_names_out(categorical_columns).tolist() + numerical_columns\n"
   ]
  },
  {
   "cell_type": "code",
   "execution_count": 17,
   "metadata": {},
   "outputs": [
    {
     "name": "stdout",
     "output_type": "stream",
     "text": [
      "Top 10 Important Features:\n",
      "                                              Feature  Importance\n",
      "10482                      Normalized Inference Score   15.037374\n",
      "10481                                 Inference Score   15.037374\n",
      "6702     Disease Name_Cell Transformation, Neoplastic    3.462473\n",
      "9130   Disease Name_Non-alcoholic Fatty Liver Disease    3.343422\n",
      "1                          Chemical Name_Aflatoxin B1    3.297589\n",
      "6613            Disease Name_Carcinoma, Squamous Cell    3.233645\n",
      "7191              Disease Name_Disease Models, Animal    3.214551\n",
      "10227          Disease Name_Urinary Bladder Neoplasms    3.170903\n",
      "6050                   Disease Name_Alzheimer Disease    3.065019\n",
      "6842                   Disease Name_Colonic Neoplasms    2.900891\n",
      "Feature importance saved to: feature_importance.csv\n"
     ]
    }
   ],
   "source": [
    "import numpy as np\n",
    "\n",
    "# Get feature importance from model coefficients\n",
    "feature_names = encoder.get_feature_names_out(categorical_columns).tolist() + numerical_columns\n",
    "coefficients = model.coef_\n",
    "\n",
    "# Convert to absolute importance for all classes\n",
    "importance = np.abs(coefficients).mean(axis=0)\n",
    "\n",
    "# Create a DataFrame for feature importance\n",
    "feature_importance = pd.DataFrame({'Feature': feature_names, 'Importance': importance})\n",
    "feature_importance = feature_importance.sort_values(by='Importance', ascending=False)\n",
    "\n",
    "# Display top 10 most important features\n",
    "print(\"Top 10 Important Features:\")\n",
    "print(feature_importance.head(10))\n",
    "\n",
    "# Optional: Save feature importance to a file\n",
    "feature_importance.to_csv(r'C:\\Users\\agk78\\OneDrive\\Desktop\\AFL\\processed_files\\feature_importance.csv', index=False)\n",
    "print(\"Feature importance saved to: feature_importance.csv\")\n"
   ]
  },
  {
   "cell_type": "code",
   "execution_count": 4,
   "metadata": {},
   "outputs": [
    {
     "name": "stdout",
     "output_type": "stream",
     "text": [
      "5-Fold Cross-Validation Accuracy Scores: [0.9961688  0.99647858 0.99577429 0.99676029 0.99591515]\n",
      "Mean Accuracy: 0.996219420408495\n"
     ]
    }
   ],
   "source": [
    "\n",
    "import numpy as np\n",
    "from sklearn.model_selection import cross_val_score\n",
    "\n",
    "# Perform 5-fold cross-validation\n",
    "cv_scores = cross_val_score(model, X_train_sparse, y_train, cv=5, scoring='accuracy')\n",
    "\n",
    "print(\"5-Fold Cross-Validation Accuracy Scores:\", cv_scores)\n",
    "print(\"Mean Accuracy:\", np.mean(cv_scores))\n"
   ]
  },
  {
   "cell_type": "code",
   "execution_count": 1,
   "metadata": {},
   "outputs": [
    {
     "name": "stdout",
     "output_type": "stream",
     "text": [
      "k-NN - Validation Performance\n",
      "              precision    recall  f1-score   support\n",
      "\n",
      "           0       0.98      0.98      0.98     19864\n",
      "           1       0.98      0.98      0.98     20489\n",
      "           2       0.99      0.99      0.99     18809\n",
      "\n",
      "    accuracy                           0.98     59162\n",
      "   macro avg       0.98      0.98      0.98     59162\n",
      "weighted avg       0.98      0.98      0.98     59162\n",
      "\n",
      "[[19512   279    73]\n",
      " [  369 20075    45]\n",
      " [   50   117 18642]]\n"
     ]
    }
   ],
   "source": [
    "from sklearn.neighbors import KNeighborsClassifier\n",
    "from sklearn.impute import SimpleImputer\n",
    "from sklearn.metrics import classification_report, confusion_matrix\n",
    "import joblib\n",
    "\n",
    "# Load the sparse datasets\n",
    "X_train_sparse = joblib.load(r'C:\\Users\\agk78\\OneDrive\\Desktop\\AFL\\processed_files\\X_train_sparse.pkl')\n",
    "X_val_sparse = joblib.load(r'C:\\Users\\agk78\\OneDrive\\Desktop\\AFL\\processed_files\\X_val_sparse.pkl')\n",
    "X_test_sparse = joblib.load(r'C:\\Users\\agk78\\OneDrive\\Desktop\\AFL\\processed_files\\X_test_sparse.pkl')\n",
    "y_train = joblib.load(r'C:\\Users\\agk78\\OneDrive\\Desktop\\AFL\\processed_files\\y_train.pkl')\n",
    "y_val = joblib.load(r'C:\\Users\\agk78\\OneDrive\\Desktop\\AFL\\processed_files\\y_val.pkl')\n",
    "y_test = joblib.load(r'C:\\Users\\agk78\\OneDrive\\Desktop\\AFL\\processed_files\\y_test.pkl')\n",
    "\n",
    "\n",
    "# Impute missing values\n",
    "imputer = SimpleImputer(strategy='mean')\n",
    "X_train_sparse = imputer.fit_transform(X_train_sparse)\n",
    "X_val_sparse = imputer.transform(X_val_sparse)\n",
    "X_test_sparse = imputer.transform(X_test_sparse)\n",
    "# Train k-NN\n",
    "knn_model = KNeighborsClassifier(n_neighbors=5)\n",
    "knn_model.fit(X_train_sparse, y_train)\n",
    "\n",
    "# Evaluate k-NN\n",
    "y_val_pred_knn = knn_model.predict(X_val_sparse)\n",
    "print(\"k-NN - Validation Performance\")\n",
    "print(classification_report(y_val, y_val_pred_knn))\n",
    "print(confusion_matrix(y_val, y_val_pred_knn))\n"
   ]
  },
  {
   "cell_type": "code",
   "execution_count": 2,
   "metadata": {},
   "outputs": [
    {
     "name": "stdout",
     "output_type": "stream",
     "text": [
      "Best k-value: {'n_neighbors': 3}\n"
     ]
    }
   ],
   "source": [
    "from sklearn.neighbors import KNeighborsClassifier\n",
    "from sklearn.model_selection import GridSearchCV\n",
    "\n",
    "# Define hyperparameter grid\n",
    "param_grid = {'n_neighbors': [3, 5, 7, 9]}\n",
    "\n",
    "# Perform Grid Search\n",
    "knn_grid = GridSearchCV(KNeighborsClassifier(), param_grid, cv=3, scoring='accuracy')\n",
    "knn_grid.fit(X_train_sparse, y_train)\n",
    "\n",
    "# Best k-value\n",
    "print(f\"Best k-value: {knn_grid.best_params_}\")\n"
   ]
  },
  {
   "cell_type": "code",
   "execution_count": 3,
   "metadata": {},
   "outputs": [
    {
     "name": "stdout",
     "output_type": "stream",
     "text": [
      "k-NN (k=3) - Validation Performance\n",
      "              precision    recall  f1-score   support\n",
      "\n",
      "           0       0.98      0.99      0.98     19864\n",
      "           1       0.98      0.98      0.98     20489\n",
      "           2       1.00      0.99      0.99     18809\n",
      "\n",
      "    accuracy                           0.99     59162\n",
      "   macro avg       0.99      0.99      0.99     59162\n",
      "weighted avg       0.99      0.99      0.99     59162\n",
      "\n",
      "Confusion Matrix:\n",
      "[[19580   236    48]\n",
      " [  315 20129    45]\n",
      " [   40    81 18688]]\n"
     ]
    }
   ],
   "source": [
    "from sklearn.neighbors import KNeighborsClassifier\n",
    "from sklearn.metrics import classification_report, confusion_matrix\n",
    "\n",
    "# Initialize k-NN with the best k-value\n",
    "knn_best = KNeighborsClassifier(n_neighbors=3)\n",
    "\n",
    "# Train k-NN\n",
    "knn_best.fit(X_train_sparse, y_train)\n",
    "\n",
    "# Evaluate on the validation set\n",
    "y_val_pred_knn_best = knn_best.predict(X_val_sparse)\n",
    "\n",
    "# Print performance metrics\n",
    "print(\"k-NN (k=3) - Validation Performance\")\n",
    "print(classification_report(y_val, y_val_pred_knn_best))\n",
    "print(\"Confusion Matrix:\")\n",
    "print(confusion_matrix(y_val, y_val_pred_knn_best))\n"
   ]
  },
  {
   "cell_type": "code",
   "execution_count": 2,
   "metadata": {},
   "outputs": [
    {
     "name": "stdout",
     "output_type": "stream",
     "text": [
      "k-NN model loaded successfully!\n"
     ]
    }
   ],
   "source": [
    "import joblib\n",
    "\n",
    "# Load the saved k-NN model\n",
    "knn_model = joblib.load(r'C:\\Users\\agk78\\OneDrive\\Desktop\\AFL\\processed_files\\knn_best_model.pkl')\n",
    "\n",
    "print(\"k-NN model loaded successfully!\")\n"
   ]
  },
  {
   "cell_type": "code",
   "execution_count": 4,
   "metadata": {},
   "outputs": [
    {
     "name": "stdout",
     "output_type": "stream",
     "text": [
      "Test data loaded successfully!\n",
      "X_test_sparse shape: (59163, 10485)\n",
      "y_test shape: (59163,)\n"
     ]
    }
   ],
   "source": [
    "import joblib\n",
    "\n",
    "# Load the preprocessed test feature data (X_test_sparse)\n",
    "X_test_sparse = joblib.load(r'C:\\Users\\agk78\\OneDrive\\Desktop\\AFL\\processed_files\\X_test_sparse.pkl')\n",
    "\n",
    "# Load the test target labels (y_test)\n",
    "y_test = joblib.load(r'C:\\Users\\agk78\\OneDrive\\Desktop\\AFL\\processed_files\\y_test.pkl')\n",
    "\n",
    "print(\"Test data loaded successfully!\")\n",
    "print(f\"X_test_sparse shape: {X_test_sparse.shape}\")\n",
    "print(f\"y_test shape: {y_test.shape}\")\n"
   ]
  },
  {
   "cell_type": "code",
   "execution_count": 6,
   "metadata": {},
   "outputs": [
    {
     "name": "stdout",
     "output_type": "stream",
     "text": [
      "Missing values imputed successfully!\n"
     ]
    }
   ],
   "source": [
    "from sklearn.impute import SimpleImputer\n",
    "from scipy.sparse import csr_matrix\n",
    "\n",
    "# Initialize the imputer (mean strategy)\n",
    "imputer = SimpleImputer(strategy='mean')\n",
    "\n",
    "# Impute missing values in sparse matrix\n",
    "X_test_sparse_imputed = imputer.fit_transform(X_test_sparse)\n",
    "\n",
    "# Ensure it's still in sparse format\n",
    "X_test_sparse_imputed = csr_matrix(X_test_sparse_imputed)\n",
    "\n",
    "print(\"Missing values imputed successfully!\")\n"
   ]
  },
  {
   "cell_type": "code",
   "execution_count": 9,
   "metadata": {},
   "outputs": [
    {
     "name": "stdout",
     "output_type": "stream",
     "text": [
      "Rows with NaNs removed. Remaining rows: 58764\n"
     ]
    }
   ],
   "source": [
    "import numpy as np\n",
    "from scipy.sparse import csr_matrix\n",
    "\n",
    "# Convert sparse matrix to dense to handle NaNs\n",
    "X_test_dense = X_test_sparse.toarray()\n",
    "\n",
    "# Identify rows without NaNs\n",
    "non_nan_indices = ~np.isnan(X_test_dense).any(axis=1)\n",
    "\n",
    "# Filter out rows with NaNs and convert back to sparse format\n",
    "X_test_sparse_cleaned = csr_matrix(X_test_dense[non_nan_indices])\n",
    "\n",
    "# Ensure corresponding labels are also filtered\n",
    "y_test_cleaned = y_test[non_nan_indices]\n",
    "\n",
    "print(f\"Rows with NaNs removed. Remaining rows: {X_test_sparse_cleaned.shape[0]}\")\n"
   ]
  },
  {
   "cell_type": "code",
   "execution_count": 10,
   "metadata": {},
   "outputs": [
    {
     "name": "stdout",
     "output_type": "stream",
     "text": [
      "k-NN (k=3) - Test Performance (After Removing NaNs)\n",
      "              precision    recall  f1-score   support\n",
      "\n",
      "           0       0.98      0.99      0.99     19763\n",
      "           1       0.99      0.98      0.98     20334\n",
      "           2       0.99      0.99      0.99     18667\n",
      "\n",
      "    accuracy                           0.99     58764\n",
      "   macro avg       0.99      0.99      0.99     58764\n",
      "weighted avg       0.99      0.99      0.99     58764\n",
      "\n",
      "Confusion Matrix:\n",
      "[[19516   183    64]\n",
      " [  292 19996    46]\n",
      " [   36    92 18539]]\n"
     ]
    }
   ],
   "source": [
    "# Predict using cleaned data\n",
    "y_test_pred_knn = knn_model.predict(X_test_sparse_cleaned)\n",
    "\n",
    "# Evaluate performance\n",
    "from sklearn.metrics import classification_report, confusion_matrix\n",
    "\n",
    "print(\"k-NN (k=3) - Test Performance (After Removing NaNs)\")\n",
    "print(classification_report(y_test_cleaned, y_test_pred_knn))\n",
    "\n",
    "# Display confusion matrix\n",
    "print(\"Confusion Matrix:\")\n",
    "print(confusion_matrix(y_test_cleaned, y_test_pred_knn))\n"
   ]
  },
  {
   "cell_type": "code",
   "execution_count": 4,
   "metadata": {},
   "outputs": [
    {
     "name": "stdout",
     "output_type": "stream",
     "text": [
      "Optimized k-NN model saved successfully: knn_best_model.pkl\n"
     ]
    }
   ],
   "source": [
    "import joblib\n",
    "\n",
    "# Save the optimized k-NN model\n",
    "joblib.dump(knn_best,r'C:\\Users\\agk78\\OneDrive\\Desktop\\AFL\\processed_files\\knn_best_model.pkl')\n",
    "print(\"Optimized k-NN model saved successfully: knn_best_model.pkl\")\n"
   ]
  },
  {
   "cell_type": "code",
   "execution_count": 6,
   "metadata": {},
   "outputs": [
    {
     "name": "stderr",
     "output_type": "stream",
     "text": [
      "c:\\Users\\agk78\\OneDrive\\Desktop\\AFL\\.venv\\Lib\\site-packages\\xgboost\\core.py:158: UserWarning: [15:13:25] WARNING: C:\\buildkite-agent\\builds\\buildkite-windows-cpu-autoscaling-group-i-0c55ff5f71b100e98-1\\xgboost\\xgboost-ci-windows\\src\\learner.cc:740: \n",
      "Parameters: { \"use_label_encoder\" } are not used.\n",
      "\n",
      "  warnings.warn(smsg, UserWarning)\n"
     ]
    },
    {
     "name": "stdout",
     "output_type": "stream",
     "text": [
      "XGBoost - Validation Performance\n",
      "              precision    recall  f1-score   support\n",
      "\n",
      "           0       1.00      1.00      1.00     19864\n",
      "           1       1.00      1.00      1.00     20489\n",
      "           2       1.00      1.00      1.00     18809\n",
      "\n",
      "    accuracy                           1.00     59162\n",
      "   macro avg       1.00      1.00      1.00     59162\n",
      "weighted avg       1.00      1.00      1.00     59162\n",
      "\n",
      "Confusion Matrix:\n",
      "[[19864     0     0]\n",
      " [    0 20489     0]\n",
      " [    0     0 18809]]\n"
     ]
    }
   ],
   "source": [
    "from xgboost import XGBClassifier\n",
    "from sklearn.impute import SimpleImputer\n",
    "from sklearn.metrics import classification_report, confusion_matrix\n",
    "import joblib\n",
    "\n",
    "# Load the sparse datasets\n",
    "X_train_sparse = joblib.load(r'C:\\Users\\agk78\\OneDrive\\Desktop\\AFL\\processed_files\\X_train_sparse.pkl')\n",
    "X_val_sparse = joblib.load(r'C:\\Users\\agk78\\OneDrive\\Desktop\\AFL\\processed_files\\X_val_sparse.pkl')\n",
    "X_test_sparse = joblib.load(r'C:\\Users\\agk78\\OneDrive\\Desktop\\AFL\\processed_files\\X_test_sparse.pkl')\n",
    "y_train = joblib.load(r'C:\\Users\\agk78\\OneDrive\\Desktop\\AFL\\processed_files\\y_train.pkl')\n",
    "y_val = joblib.load(r'C:\\Users\\agk78\\OneDrive\\Desktop\\AFL\\processed_files\\y_val.pkl')\n",
    "y_test = joblib.load(r'C:\\Users\\agk78\\OneDrive\\Desktop\\AFL\\processed_files\\y_test.pkl')\n",
    "\n",
    "\n",
    "# Impute missing values\n",
    "imputer = SimpleImputer(strategy='mean')\n",
    "X_train_sparse = imputer.fit_transform(X_train_sparse)\n",
    "X_val_sparse = imputer.transform(X_val_sparse)\n",
    "X_test_sparse = imputer.transform(X_test_sparse)\n",
    "\n",
    "# Initialize and train XGBoost\n",
    "xgb_model = XGBClassifier(use_label_encoder=False, eval_metric='mlogloss', random_state=42)\n",
    "xgb_model.fit(X_train_sparse, y_train)\n",
    "\n",
    "# Evaluate XGBoost\n",
    "y_val_pred_xgb = xgb_model.predict(X_val_sparse)\n",
    "\n",
    "# Print results\n",
    "print(\"XGBoost - Validation Performance\")\n",
    "print(classification_report(y_val, y_val_pred_xgb))\n",
    "print(\"Confusion Matrix:\")\n",
    "print(confusion_matrix(y_val, y_val_pred_xgb))\n"
   ]
  },
  {
   "cell_type": "code",
   "execution_count": 7,
   "metadata": {},
   "outputs": [
    {
     "name": "stdout",
     "output_type": "stream",
     "text": [
      "XGBoost - Test Performance\n",
      "              precision    recall  f1-score   support\n",
      "\n",
      "           0       1.00      1.00      1.00     19864\n",
      "           1       1.00      1.00      1.00     20489\n",
      "           2       1.00      1.00      1.00     18810\n",
      "\n",
      "    accuracy                           1.00     59163\n",
      "   macro avg       1.00      1.00      1.00     59163\n",
      "weighted avg       1.00      1.00      1.00     59163\n",
      "\n",
      "Confusion Matrix:\n",
      "[[19864     0     0]\n",
      " [    0 20489     0]\n",
      " [    0     0 18810]]\n"
     ]
    }
   ],
   "source": [
    "y_test_pred_xgb = xgb_model.predict(X_test_sparse)\n",
    "\n",
    "print(\"XGBoost - Test Performance\")\n",
    "print(classification_report(y_test, y_test_pred_xgb))\n",
    "print(\"Confusion Matrix:\")\n",
    "print(confusion_matrix(y_test, y_test_pred_xgb))\n"
   ]
  },
  {
   "cell_type": "code",
   "execution_count": 8,
   "metadata": {},
   "outputs": [
    {
     "name": "stdout",
     "output_type": "stream",
     "text": [
      "XGBoost model saved successfully: xgboost_best_model.pkl\n"
     ]
    }
   ],
   "source": [
    "import joblib\n",
    "\n",
    "# Save the trained XGBoost model\n",
    "joblib.dump(xgb_model,r'C:\\Users\\agk78\\OneDrive\\Desktop\\AFL\\processed_files\\xgboost_best_model.pkl')\n",
    "\n",
    "print(\"XGBoost model saved successfully: xgboost_best_model.pkl\")\n"
   ]
  },
  {
   "cell_type": "code",
   "execution_count": 11,
   "metadata": {},
   "outputs": [
    {
     "name": "stdout",
     "output_type": "stream",
     "text": [
      "[LightGBM] [Info] Auto-choosing row-wise multi-threading, the overhead of testing was 0.640535 seconds.\n",
      "You can set `force_row_wise=true` to remove the overhead.\n",
      "And if memory is not enough, you can set `force_col_wise=true`.\n",
      "[LightGBM] [Info] Total Bins 4522\n",
      "[LightGBM] [Info] Number of data points in the train set: 177486, number of used features: 1758\n",
      "[LightGBM] [Info] Start training from score -1.091370\n",
      "[LightGBM] [Info] Start training from score -1.060391\n",
      "[LightGBM] [Info] Start training from score -1.145944\n",
      "[LightGBM] [Warning] No further splits with positive gain, best gain: -inf\n",
      "[LightGBM] [Warning] No further splits with positive gain, best gain: -inf\n",
      "[LightGBM] [Warning] No further splits with positive gain, best gain: -inf\n",
      "[LightGBM] [Warning] No further splits with positive gain, best gain: -inf\n",
      "[LightGBM] [Warning] No further splits with positive gain, best gain: -inf\n",
      "[LightGBM] [Warning] No further splits with positive gain, best gain: -inf\n",
      "[LightGBM] [Warning] No further splits with positive gain, best gain: -inf\n",
      "[LightGBM] [Warning] No further splits with positive gain, best gain: -inf\n",
      "[LightGBM] [Warning] No further splits with positive gain, best gain: -inf\n",
      "[LightGBM] [Warning] No further splits with positive gain, best gain: -inf\n",
      "[LightGBM] [Warning] No further splits with positive gain, best gain: -inf\n",
      "[LightGBM] [Warning] No further splits with positive gain, best gain: -inf\n",
      "[LightGBM] [Warning] No further splits with positive gain, best gain: -inf\n",
      "[LightGBM] [Warning] No further splits with positive gain, best gain: -inf\n",
      "[LightGBM] [Warning] No further splits with positive gain, best gain: -inf\n",
      "[LightGBM] [Warning] No further splits with positive gain, best gain: -inf\n",
      "[LightGBM] [Warning] No further splits with positive gain, best gain: -inf\n",
      "[LightGBM] [Warning] No further splits with positive gain, best gain: -inf\n",
      "[LightGBM] [Warning] No further splits with positive gain, best gain: -inf\n",
      "[LightGBM] [Warning] No further splits with positive gain, best gain: -inf\n",
      "[LightGBM] [Warning] No further splits with positive gain, best gain: -inf\n",
      "[LightGBM] [Warning] No further splits with positive gain, best gain: -inf\n",
      "[LightGBM] [Warning] No further splits with positive gain, best gain: -inf\n",
      "[LightGBM] [Warning] No further splits with positive gain, best gain: -inf\n",
      "[LightGBM] [Warning] No further splits with positive gain, best gain: -inf\n",
      "[LightGBM] [Warning] No further splits with positive gain, best gain: -inf\n",
      "[LightGBM] [Warning] No further splits with positive gain, best gain: -inf\n",
      "[LightGBM] [Warning] No further splits with positive gain, best gain: -inf\n",
      "[LightGBM] [Warning] No further splits with positive gain, best gain: -inf\n",
      "[LightGBM] [Warning] No further splits with positive gain, best gain: -inf\n",
      "[LightGBM] [Warning] No further splits with positive gain, best gain: -inf\n",
      "[LightGBM] [Warning] No further splits with positive gain, best gain: -inf\n",
      "[LightGBM] [Warning] No further splits with positive gain, best gain: -inf\n",
      "[LightGBM] [Warning] No further splits with positive gain, best gain: -inf\n",
      "[LightGBM] [Warning] No further splits with positive gain, best gain: -inf\n",
      "[LightGBM] [Warning] No further splits with positive gain, best gain: -inf\n",
      "[LightGBM] [Warning] No further splits with positive gain, best gain: -inf\n",
      "[LightGBM] [Warning] No further splits with positive gain, best gain: -inf\n",
      "[LightGBM] [Warning] No further splits with positive gain, best gain: -inf\n",
      "[LightGBM] [Warning] No further splits with positive gain, best gain: -inf\n",
      "[LightGBM] [Warning] No further splits with positive gain, best gain: -inf\n",
      "[LightGBM] [Warning] No further splits with positive gain, best gain: -inf\n",
      "[LightGBM] [Warning] No further splits with positive gain, best gain: -inf\n",
      "[LightGBM] [Warning] No further splits with positive gain, best gain: -inf\n",
      "[LightGBM] [Warning] No further splits with positive gain, best gain: -inf\n",
      "[LightGBM] [Warning] No further splits with positive gain, best gain: -inf\n",
      "[LightGBM] [Warning] No further splits with positive gain, best gain: -inf\n",
      "[LightGBM] [Warning] No further splits with positive gain, best gain: -inf\n",
      "[LightGBM] [Warning] No further splits with positive gain, best gain: -inf\n",
      "[LightGBM] [Warning] No further splits with positive gain, best gain: -inf\n",
      "[LightGBM] [Warning] No further splits with positive gain, best gain: -inf\n",
      "[LightGBM] [Warning] No further splits with positive gain, best gain: -inf\n",
      "[LightGBM] [Warning] No further splits with positive gain, best gain: -inf\n",
      "[LightGBM] [Warning] No further splits with positive gain, best gain: -inf\n",
      "[LightGBM] [Warning] No further splits with positive gain, best gain: -inf\n",
      "[LightGBM] [Warning] No further splits with positive gain, best gain: -inf\n",
      "[LightGBM] [Warning] No further splits with positive gain, best gain: -inf\n",
      "[LightGBM] [Warning] No further splits with positive gain, best gain: -inf\n",
      "[LightGBM] [Warning] No further splits with positive gain, best gain: -inf\n",
      "[LightGBM] [Warning] No further splits with positive gain, best gain: -inf\n",
      "[LightGBM] [Warning] No further splits with positive gain, best gain: -inf\n",
      "[LightGBM] [Warning] No further splits with positive gain, best gain: -inf\n",
      "[LightGBM] [Warning] No further splits with positive gain, best gain: -inf\n",
      "[LightGBM] [Warning] No further splits with positive gain, best gain: -inf\n",
      "[LightGBM] [Warning] No further splits with positive gain, best gain: -inf\n",
      "[LightGBM] [Warning] No further splits with positive gain, best gain: -inf\n",
      "[LightGBM] [Warning] No further splits with positive gain, best gain: -inf\n",
      "[LightGBM] [Warning] No further splits with positive gain, best gain: -inf\n",
      "[LightGBM] [Warning] No further splits with positive gain, best gain: -inf\n",
      "[LightGBM] [Warning] No further splits with positive gain, best gain: -inf\n",
      "[LightGBM] [Warning] No further splits with positive gain, best gain: -inf\n",
      "[LightGBM] [Warning] No further splits with positive gain, best gain: -inf\n",
      "[LightGBM] [Warning] No further splits with positive gain, best gain: -inf\n",
      "[LightGBM] [Warning] No further splits with positive gain, best gain: -inf\n",
      "[LightGBM] [Warning] No further splits with positive gain, best gain: -inf\n",
      "[LightGBM] [Warning] No further splits with positive gain, best gain: -inf\n",
      "[LightGBM] [Warning] No further splits with positive gain, best gain: -inf\n",
      "[LightGBM] [Warning] No further splits with positive gain, best gain: -inf\n",
      "[LightGBM] [Warning] No further splits with positive gain, best gain: -inf\n",
      "[LightGBM] [Warning] No further splits with positive gain, best gain: -inf\n",
      "[LightGBM] [Warning] No further splits with positive gain, best gain: -inf\n",
      "[LightGBM] [Warning] No further splits with positive gain, best gain: -inf\n",
      "[LightGBM] [Warning] No further splits with positive gain, best gain: -inf\n",
      "[LightGBM] [Warning] No further splits with positive gain, best gain: -inf\n",
      "[LightGBM] [Warning] No further splits with positive gain, best gain: -inf\n",
      "[LightGBM] [Warning] No further splits with positive gain, best gain: -inf\n",
      "[LightGBM] [Warning] No further splits with positive gain, best gain: -inf\n",
      "[LightGBM] [Warning] No further splits with positive gain, best gain: -inf\n",
      "[LightGBM] [Warning] No further splits with positive gain, best gain: -inf\n",
      "[LightGBM] [Warning] No further splits with positive gain, best gain: -inf\n",
      "[LightGBM] [Warning] No further splits with positive gain, best gain: -inf\n",
      "[LightGBM] [Warning] No further splits with positive gain, best gain: -inf\n",
      "[LightGBM] [Warning] No further splits with positive gain, best gain: -inf\n",
      "[LightGBM] [Warning] No further splits with positive gain, best gain: -inf\n",
      "[LightGBM] [Warning] No further splits with positive gain, best gain: -inf\n",
      "[LightGBM] [Warning] No further splits with positive gain, best gain: -inf\n",
      "[LightGBM] [Warning] No further splits with positive gain, best gain: -inf\n",
      "[LightGBM] [Warning] No further splits with positive gain, best gain: -inf\n",
      "[LightGBM] [Warning] No further splits with positive gain, best gain: -inf\n",
      "[LightGBM] [Warning] No further splits with positive gain, best gain: -inf\n",
      "[LightGBM] [Warning] No further splits with positive gain, best gain: -inf\n",
      "[LightGBM] [Warning] No further splits with positive gain, best gain: -inf\n",
      "[LightGBM] [Warning] No further splits with positive gain, best gain: -inf\n",
      "[LightGBM] [Warning] No further splits with positive gain, best gain: -inf\n",
      "[LightGBM] [Warning] No further splits with positive gain, best gain: -inf\n",
      "[LightGBM] [Warning] No further splits with positive gain, best gain: -inf\n",
      "[LightGBM] [Warning] No further splits with positive gain, best gain: -inf\n",
      "[LightGBM] [Warning] No further splits with positive gain, best gain: -inf\n",
      "[LightGBM] [Warning] No further splits with positive gain, best gain: -inf\n",
      "[LightGBM] [Warning] No further splits with positive gain, best gain: -inf\n",
      "[LightGBM] [Warning] No further splits with positive gain, best gain: -inf\n",
      "[LightGBM] [Warning] No further splits with positive gain, best gain: -inf\n",
      "[LightGBM] [Warning] No further splits with positive gain, best gain: -inf\n",
      "[LightGBM] [Warning] No further splits with positive gain, best gain: -inf\n",
      "[LightGBM] [Warning] No further splits with positive gain, best gain: -inf\n",
      "[LightGBM] [Warning] No further splits with positive gain, best gain: -inf\n",
      "[LightGBM] [Warning] No further splits with positive gain, best gain: -inf\n",
      "[LightGBM] [Warning] No further splits with positive gain, best gain: -inf\n",
      "[LightGBM] [Warning] No further splits with positive gain, best gain: -inf\n",
      "[LightGBM] [Warning] No further splits with positive gain, best gain: -inf\n",
      "[LightGBM] [Warning] No further splits with positive gain, best gain: -inf\n",
      "[LightGBM] [Warning] No further splits with positive gain, best gain: -inf\n",
      "[LightGBM] [Warning] No further splits with positive gain, best gain: -inf\n",
      "[LightGBM] [Warning] No further splits with positive gain, best gain: -inf\n",
      "[LightGBM] [Warning] No further splits with positive gain, best gain: -inf\n",
      "[LightGBM] [Warning] No further splits with positive gain, best gain: -inf\n",
      "[LightGBM] [Warning] No further splits with positive gain, best gain: -inf\n",
      "[LightGBM] [Warning] No further splits with positive gain, best gain: -inf\n",
      "[LightGBM] [Warning] No further splits with positive gain, best gain: -inf\n",
      "[LightGBM] [Warning] No further splits with positive gain, best gain: -inf\n",
      "[LightGBM] [Warning] No further splits with positive gain, best gain: -inf\n",
      "[LightGBM] [Warning] No further splits with positive gain, best gain: -inf\n",
      "[LightGBM] [Warning] No further splits with positive gain, best gain: -inf\n",
      "[LightGBM] [Warning] No further splits with positive gain, best gain: -inf\n",
      "[LightGBM] [Warning] No further splits with positive gain, best gain: -inf\n",
      "[LightGBM] [Warning] No further splits with positive gain, best gain: -inf\n",
      "[LightGBM] [Warning] No further splits with positive gain, best gain: -inf\n",
      "[LightGBM] [Warning] No further splits with positive gain, best gain: -inf\n",
      "[LightGBM] [Warning] No further splits with positive gain, best gain: -inf\n",
      "[LightGBM] [Warning] No further splits with positive gain, best gain: -inf\n",
      "[LightGBM] [Warning] No further splits with positive gain, best gain: -inf\n",
      "[LightGBM] [Warning] No further splits with positive gain, best gain: -inf\n",
      "[LightGBM] [Warning] No further splits with positive gain, best gain: -inf\n",
      "[LightGBM] [Warning] No further splits with positive gain, best gain: -inf\n",
      "[LightGBM] [Warning] No further splits with positive gain, best gain: -inf\n",
      "[LightGBM] [Warning] No further splits with positive gain, best gain: -inf\n",
      "[LightGBM] [Warning] No further splits with positive gain, best gain: -inf\n",
      "[LightGBM] [Warning] No further splits with positive gain, best gain: -inf\n",
      "[LightGBM] [Warning] No further splits with positive gain, best gain: -inf\n",
      "[LightGBM] [Warning] No further splits with positive gain, best gain: -inf\n",
      "[LightGBM] [Warning] No further splits with positive gain, best gain: -inf\n",
      "[LightGBM] [Warning] No further splits with positive gain, best gain: -inf\n",
      "[LightGBM] [Warning] No further splits with positive gain, best gain: -inf\n",
      "[LightGBM] [Warning] No further splits with positive gain, best gain: -inf\n",
      "[LightGBM] [Warning] No further splits with positive gain, best gain: -inf\n",
      "[LightGBM] [Warning] No further splits with positive gain, best gain: -inf\n",
      "[LightGBM] [Warning] No further splits with positive gain, best gain: -inf\n",
      "[LightGBM] [Warning] No further splits with positive gain, best gain: -inf\n",
      "[LightGBM] [Warning] No further splits with positive gain, best gain: -inf\n",
      "[LightGBM] [Warning] No further splits with positive gain, best gain: -inf\n",
      "[LightGBM] [Warning] No further splits with positive gain, best gain: -inf\n",
      "[LightGBM] [Warning] No further splits with positive gain, best gain: -inf\n",
      "[LightGBM] [Warning] No further splits with positive gain, best gain: -inf\n",
      "[LightGBM] [Warning] No further splits with positive gain, best gain: -inf\n",
      "[LightGBM] [Warning] No further splits with positive gain, best gain: -inf\n",
      "[LightGBM] [Warning] No further splits with positive gain, best gain: -inf\n",
      "[LightGBM] [Warning] No further splits with positive gain, best gain: -inf\n",
      "[LightGBM] [Warning] No further splits with positive gain, best gain: -inf\n",
      "[LightGBM] [Warning] No further splits with positive gain, best gain: -inf\n",
      "[LightGBM] [Warning] No further splits with positive gain, best gain: -inf\n",
      "[LightGBM] [Warning] No further splits with positive gain, best gain: -inf\n",
      "[LightGBM] [Warning] No further splits with positive gain, best gain: -inf\n",
      "[LightGBM] [Warning] No further splits with positive gain, best gain: -inf\n",
      "[LightGBM] [Warning] No further splits with positive gain, best gain: -inf\n",
      "[LightGBM] [Warning] No further splits with positive gain, best gain: -inf\n",
      "[LightGBM] [Warning] No further splits with positive gain, best gain: -inf\n",
      "[LightGBM] [Warning] No further splits with positive gain, best gain: -inf\n",
      "[LightGBM] [Warning] No further splits with positive gain, best gain: -inf\n",
      "[LightGBM] [Warning] No further splits with positive gain, best gain: -inf\n",
      "[LightGBM] [Warning] No further splits with positive gain, best gain: -inf\n",
      "[LightGBM] [Warning] No further splits with positive gain, best gain: -inf\n",
      "[LightGBM] [Warning] No further splits with positive gain, best gain: -inf\n",
      "[LightGBM] [Warning] No further splits with positive gain, best gain: -inf\n",
      "[LightGBM] [Warning] No further splits with positive gain, best gain: -inf\n",
      "[LightGBM] [Warning] No further splits with positive gain, best gain: -inf\n",
      "[LightGBM] [Warning] No further splits with positive gain, best gain: -inf\n",
      "[LightGBM] [Warning] No further splits with positive gain, best gain: -inf\n",
      "[LightGBM] [Warning] No further splits with positive gain, best gain: -inf\n",
      "[LightGBM] [Warning] No further splits with positive gain, best gain: -inf\n",
      "[LightGBM] [Warning] No further splits with positive gain, best gain: -inf\n",
      "[LightGBM] [Warning] No further splits with positive gain, best gain: -inf\n",
      "[LightGBM] [Warning] No further splits with positive gain, best gain: -inf\n",
      "[LightGBM] [Warning] No further splits with positive gain, best gain: -inf\n",
      "[LightGBM] [Warning] No further splits with positive gain, best gain: -inf\n",
      "[LightGBM] [Warning] No further splits with positive gain, best gain: -inf\n",
      "[LightGBM] [Warning] No further splits with positive gain, best gain: -inf\n",
      "[LightGBM] [Warning] No further splits with positive gain, best gain: -inf\n",
      "[LightGBM] [Warning] No further splits with positive gain, best gain: -inf\n",
      "[LightGBM] [Warning] No further splits with positive gain, best gain: -inf\n",
      "[LightGBM] [Warning] No further splits with positive gain, best gain: -inf\n",
      "[LightGBM] [Warning] No further splits with positive gain, best gain: -inf\n",
      "[LightGBM] [Warning] No further splits with positive gain, best gain: -inf\n",
      "[LightGBM] [Warning] No further splits with positive gain, best gain: -inf\n",
      "[LightGBM] [Warning] No further splits with positive gain, best gain: -inf\n",
      "LightGBM - Validation Performance\n",
      "              precision    recall  f1-score   support\n",
      "\n",
      "           0       1.00      1.00      1.00     19864\n",
      "           1       1.00      1.00      1.00     20489\n",
      "           2       1.00      1.00      1.00     18809\n",
      "\n",
      "    accuracy                           1.00     59162\n",
      "   macro avg       1.00      1.00      1.00     59162\n",
      "weighted avg       1.00      1.00      1.00     59162\n",
      "\n",
      "Confusion Matrix:\n",
      "[[19864     0     0]\n",
      " [    0 20489     0]\n",
      " [    0     0 18809]]\n"
     ]
    }
   ],
   "source": [
    "from lightgbm import LGBMClassifier\n",
    "from sklearn.impute import SimpleImputer\n",
    "from sklearn.metrics import classification_report, confusion_matrix\n",
    "import joblib\n",
    "\n",
    "# Load the sparse datasets\n",
    "X_train_sparse = joblib.load(r'C:\\Users\\agk78\\OneDrive\\Desktop\\AFL\\processed_files\\X_train_sparse.pkl')\n",
    "X_val_sparse = joblib.load(r'C:\\Users\\agk78\\OneDrive\\Desktop\\AFL\\processed_files\\X_val_sparse.pkl')\n",
    "X_test_sparse = joblib.load(r'C:\\Users\\agk78\\OneDrive\\Desktop\\AFL\\processed_files\\X_test_sparse.pkl')\n",
    "y_train = joblib.load(r'C:\\Users\\agk78\\OneDrive\\Desktop\\AFL\\processed_files\\y_train.pkl')\n",
    "y_val = joblib.load(r'C:\\Users\\agk78\\OneDrive\\Desktop\\AFL\\processed_files\\y_val.pkl')\n",
    "y_test = joblib.load(r'C:\\Users\\agk78\\OneDrive\\Desktop\\AFL\\processed_files\\y_test.pkl')\n",
    "\n",
    "\n",
    "# Impute missing values\n",
    "imputer = SimpleImputer(strategy='mean')\n",
    "X_train_sparse = imputer.fit_transform(X_train_sparse)\n",
    "X_val_sparse = imputer.transform(X_val_sparse)\n",
    "X_test_sparse = imputer.transform(X_test_sparse)\n",
    "\n",
    "# Initialize and train LightGBM\n",
    "lgbm_model = LGBMClassifier(random_state=42)\n",
    "lgbm_model.fit(X_train_sparse, y_train)\n",
    "\n",
    "# Evaluate LightGBM\n",
    "y_val_pred_lgbm = lgbm_model.predict(X_val_sparse)\n",
    "\n",
    "# Print results\n",
    "print(\"LightGBM - Validation Performance\")\n",
    "print(classification_report(y_val, y_val_pred_lgbm))\n",
    "print(\"Confusion Matrix:\")\n",
    "print(confusion_matrix(y_val, y_val_pred_lgbm))\n"
   ]
  },
  {
   "cell_type": "code",
   "execution_count": 12,
   "metadata": {},
   "outputs": [
    {
     "name": "stdout",
     "output_type": "stream",
     "text": [
      "LightGBM - Test Performance\n",
      "              precision    recall  f1-score   support\n",
      "\n",
      "           0       1.00      1.00      1.00     19864\n",
      "           1       1.00      1.00      1.00     20489\n",
      "           2       1.00      1.00      1.00     18810\n",
      "\n",
      "    accuracy                           1.00     59163\n",
      "   macro avg       1.00      1.00      1.00     59163\n",
      "weighted avg       1.00      1.00      1.00     59163\n",
      "\n",
      "Confusion Matrix:\n",
      "[[19864     0     0]\n",
      " [    0 20489     0]\n",
      " [    0     0 18810]]\n"
     ]
    }
   ],
   "source": [
    "y_test_pred_lgbm = lgbm_model.predict(X_test_sparse)\n",
    "\n",
    "print(\"LightGBM - Test Performance\")\n",
    "print(classification_report(y_test, y_test_pred_lgbm))\n",
    "print(\"Confusion Matrix:\")\n",
    "print(confusion_matrix(y_test, y_test_pred_lgbm))\n"
   ]
  },
  {
   "cell_type": "code",
   "execution_count": 14,
   "metadata": {},
   "outputs": [
    {
     "name": "stdout",
     "output_type": "stream",
     "text": [
      "LightGBM model saved successfully: lightgbm_best_model.pkl\n"
     ]
    }
   ],
   "source": [
    "import joblib\n",
    "\n",
    "# Save the trained LightGBM model\n",
    "joblib.dump(lgbm_model,r'C:\\Users\\agk78\\OneDrive\\Desktop\\AFL\\processed_files\\lightgbm_best_model.pkl')\n",
    "\n",
    "print(\"LightGBM model saved successfully: lightgbm_best_model.pkl\")\n"
   ]
  },
  {
   "cell_type": "code",
   "execution_count": 13,
   "metadata": {},
   "outputs": [
    {
     "name": "stdout",
     "output_type": "stream",
     "text": [
      "Random Forest - Validation Performance\n",
      "              precision    recall  f1-score   support\n",
      "\n",
      "           0       1.00      1.00      1.00     19864\n",
      "           1       1.00      1.00      1.00     20489\n",
      "           2       1.00      1.00      1.00     18809\n",
      "\n",
      "    accuracy                           1.00     59162\n",
      "   macro avg       1.00      1.00      1.00     59162\n",
      "weighted avg       1.00      1.00      1.00     59162\n",
      "\n",
      "Confusion Matrix:\n",
      "[[19864     0     0]\n",
      " [    0 20489     0]\n",
      " [    0     0 18809]]\n"
     ]
    }
   ],
   "source": [
    "from sklearn.ensemble import RandomForestClassifier\n",
    "from sklearn.impute import SimpleImputer\n",
    "from sklearn.metrics import classification_report, confusion_matrix\n",
    "import joblib\n",
    "\n",
    "# Load the sparse datasets\n",
    "X_train_sparse = joblib.load(r'C:\\Users\\agk78\\OneDrive\\Desktop\\AFL\\processed_files\\X_train_sparse.pkl')\n",
    "X_val_sparse = joblib.load(r'C:\\Users\\agk78\\OneDrive\\Desktop\\AFL\\processed_files\\X_val_sparse.pkl')\n",
    "X_test_sparse = joblib.load(r'C:\\Users\\agk78\\OneDrive\\Desktop\\AFL\\processed_files\\X_test_sparse.pkl')\n",
    "y_train = joblib.load(r'C:\\Users\\agk78\\OneDrive\\Desktop\\AFL\\processed_files\\y_train.pkl')\n",
    "y_val = joblib.load(r'C:\\Users\\agk78\\OneDrive\\Desktop\\AFL\\processed_files\\y_val.pkl')\n",
    "y_test = joblib.load(r'C:\\Users\\agk78\\OneDrive\\Desktop\\AFL\\processed_files\\y_test.pkl')\n",
    "\n",
    "\n",
    "# Impute missing values\n",
    "imputer = SimpleImputer(strategy='mean')\n",
    "X_train_sparse = imputer.fit_transform(X_train_sparse)\n",
    "X_val_sparse = imputer.transform(X_val_sparse)\n",
    "X_test_sparse = imputer.transform(X_test_sparse)\n",
    "# Initialize and train Random Forest\n",
    "rf_model = RandomForestClassifier(n_estimators=100, random_state=42)\n",
    "rf_model.fit(X_train_sparse, y_train)\n",
    "\n",
    "# Evaluate Random Forest\n",
    "y_val_pred_rf = rf_model.predict(X_val_sparse)\n",
    "\n",
    "# Print results\n",
    "print(\"Random Forest - Validation Performance\")\n",
    "print(classification_report(y_val, y_val_pred_rf))\n",
    "print(\"Confusion Matrix:\")\n",
    "print(confusion_matrix(y_val, y_val_pred_rf))\n"
   ]
  },
  {
   "cell_type": "code",
   "execution_count": 15,
   "metadata": {},
   "outputs": [
    {
     "name": "stdout",
     "output_type": "stream",
     "text": [
      "Random Forest - Test Performance\n",
      "              precision    recall  f1-score   support\n",
      "\n",
      "           0       1.00      1.00      1.00     19864\n",
      "           1       1.00      1.00      1.00     20489\n",
      "           2       1.00      1.00      1.00     18810\n",
      "\n",
      "    accuracy                           1.00     59163\n",
      "   macro avg       1.00      1.00      1.00     59163\n",
      "weighted avg       1.00      1.00      1.00     59163\n",
      "\n",
      "Confusion Matrix:\n",
      "[[19864     0     0]\n",
      " [    0 20489     0]\n",
      " [    0     0 18810]]\n"
     ]
    }
   ],
   "source": [
    "y_test_pred_rf = rf_model.predict(X_test_sparse)\n",
    "\n",
    "print(\"Random Forest - Test Performance\")\n",
    "print(classification_report(y_test, y_test_pred_rf))\n",
    "print(\"Confusion Matrix:\")\n",
    "print(confusion_matrix(y_test, y_test_pred_rf))\n"
   ]
  },
  {
   "cell_type": "code",
   "execution_count": 17,
   "metadata": {},
   "outputs": [
    {
     "name": "stdout",
     "output_type": "stream",
     "text": [
      "Random Forest model saved successfully: random_forest_best_model.pkl\n"
     ]
    }
   ],
   "source": [
    "import joblib\n",
    "\n",
    "# Save the trained Random Forest model\n",
    "joblib.dump(rf_model,r'C:\\Users\\agk78\\OneDrive\\Desktop\\AFL\\processed_files\\random_forest_best_model.pkl')\n",
    "\n",
    "print(\"Random Forest model saved successfully: random_forest_best_model.pkl\")\n"
   ]
  },
  {
   "cell_type": "code",
   "execution_count": 1,
   "metadata": {},
   "outputs": [
    {
     "name": "stdout",
     "output_type": "stream",
     "text": [
      "0:\tlearn: 0.9097917\ttotal: 287ms\tremaining: 2m 23s\n",
      "100:\tlearn: 0.0000734\ttotal: 9.69s\tremaining: 38.3s\n",
      "200:\tlearn: 0.0000115\ttotal: 19s\tremaining: 28.3s\n",
      "300:\tlearn: 0.0000064\ttotal: 28.8s\tremaining: 19s\n",
      "400:\tlearn: 0.0000045\ttotal: 39.1s\tremaining: 9.64s\n",
      "499:\tlearn: 0.0000035\ttotal: 48.6s\tremaining: 0us\n",
      "CatBoost - Validation Performance\n",
      "              precision    recall  f1-score   support\n",
      "\n",
      "           0       1.00      1.00      1.00     19864\n",
      "           1       1.00      1.00      1.00     20489\n",
      "           2       1.00      1.00      1.00     18809\n",
      "\n",
      "    accuracy                           1.00     59162\n",
      "   macro avg       1.00      1.00      1.00     59162\n",
      "weighted avg       1.00      1.00      1.00     59162\n",
      "\n",
      "Confusion Matrix:\n",
      "[[19864     0     0]\n",
      " [    0 20489     0]\n",
      " [    0     0 18809]]\n"
     ]
    }
   ],
   "source": [
    "from catboost import CatBoostClassifier\n",
    "from sklearn.metrics import classification_report, confusion_matrix\n",
    "from sklearn.impute import SimpleImputer\n",
    "from sklearn.metrics import classification_report, confusion_matrix\n",
    "import joblib\n",
    "\n",
    "# Load the sparse datasets\n",
    "X_train_sparse = joblib.load(r'C:\\Users\\agk78\\OneDrive\\Desktop\\AFL\\processed_files\\X_train_sparse.pkl')\n",
    "X_val_sparse = joblib.load(r'C:\\Users\\agk78\\OneDrive\\Desktop\\AFL\\processed_files\\X_val_sparse.pkl')\n",
    "X_test_sparse = joblib.load(r'C:\\Users\\agk78\\OneDrive\\Desktop\\AFL\\processed_files\\X_test_sparse.pkl')\n",
    "y_train = joblib.load(r'C:\\Users\\agk78\\OneDrive\\Desktop\\AFL\\processed_files\\y_train.pkl')\n",
    "y_val = joblib.load(r'C:\\Users\\agk78\\OneDrive\\Desktop\\AFL\\processed_files\\y_val.pkl')\n",
    "y_test = joblib.load(r'C:\\Users\\agk78\\OneDrive\\Desktop\\AFL\\processed_files\\y_test.pkl')\n",
    "\n",
    "\n",
    "# Impute missing values\n",
    "imputer = SimpleImputer(strategy='mean')\n",
    "X_train_sparse = imputer.fit_transform(X_train_sparse)\n",
    "X_val_sparse = imputer.transform(X_val_sparse)\n",
    "X_test_sparse = imputer.transform(X_test_sparse)\n",
    "\n",
    "# Train CatBoost\n",
    "cat_model = CatBoostClassifier(iterations=500, depth=6, learning_rate=0.1, verbose=100, random_state=42)\n",
    "cat_model.fit(X_train_sparse, y_train)\n",
    "\n",
    "# Evaluate\n",
    "y_val_pred_cat = cat_model.predict(X_val_sparse)\n",
    "\n",
    "print(\"CatBoost - Validation Performance\")\n",
    "print(classification_report(y_val, y_val_pred_cat))\n",
    "print(\"Confusion Matrix:\")\n",
    "print(confusion_matrix(y_val, y_val_pred_cat))\n"
   ]
  },
  {
   "cell_type": "code",
   "execution_count": 2,
   "metadata": {},
   "outputs": [
    {
     "name": "stdout",
     "output_type": "stream",
     "text": [
      "CatBoost - Test Performance\n",
      "              precision    recall  f1-score   support\n",
      "\n",
      "           0       1.00      1.00      1.00     19864\n",
      "           1       1.00      1.00      1.00     20489\n",
      "           2       1.00      1.00      1.00     18810\n",
      "\n",
      "    accuracy                           1.00     59163\n",
      "   macro avg       1.00      1.00      1.00     59163\n",
      "weighted avg       1.00      1.00      1.00     59163\n",
      "\n",
      "Confusion Matrix:\n",
      "[[19864     0     0]\n",
      " [    0 20489     0]\n",
      " [    0     0 18810]]\n"
     ]
    }
   ],
   "source": [
    "y_test_pred_cat = cat_model.predict(X_test_sparse)\n",
    "\n",
    "print(\"CatBoost - Test Performance\")\n",
    "print(classification_report(y_test, y_test_pred_cat))\n",
    "print(\"Confusion Matrix:\")\n",
    "print(confusion_matrix(y_test, y_test_pred_cat))\n"
   ]
  },
  {
   "cell_type": "code",
   "execution_count": 3,
   "metadata": {},
   "outputs": [
    {
     "name": "stdout",
     "output_type": "stream",
     "text": [
      "CatBoost model saved successfully: catboost_best_model.pkl\n"
     ]
    }
   ],
   "source": [
    "import joblib\n",
    "\n",
    "# Save the trained CatBoost model\n",
    "joblib.dump(cat_model,r'C:\\Users\\agk78\\OneDrive\\Desktop\\AFL\\processed_files\\catboost_best_model.pkl')\n",
    "\n",
    "print(\"CatBoost model saved successfully: catboost_best_model.pkl\")\n"
   ]
  }
 ],
 "metadata": {
  "kernelspec": {
   "display_name": ".venv",
   "language": "python",
   "name": "python3"
  },
  "language_info": {
   "codemirror_mode": {
    "name": "ipython",
    "version": 3
   },
   "file_extension": ".py",
   "mimetype": "text/x-python",
   "name": "python",
   "nbconvert_exporter": "python",
   "pygments_lexer": "ipython3",
   "version": "3.11.9"
  }
 },
 "nbformat": 4,
 "nbformat_minor": 2
}
